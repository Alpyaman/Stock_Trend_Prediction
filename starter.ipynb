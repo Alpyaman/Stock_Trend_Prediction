{
 "cells": [
  {
   "cell_type": "code",
   "execution_count": 1,
   "metadata": {},
   "outputs": [],
   "source": [
    "import matplotlib.pyplot as plt\n",
    "import seaborn as sns\n",
    "\n",
    "def quick_eda(df):\n",
    "    # Plot class distribution\n",
    "    fig, ax = plt.subplots()\n",
    "    sns.countplot(data=df, x='Target', palette='Set2', ax=ax)\n",
    "    ax.set_title(\"Target Class Distribution (Up = 1, Down = 0)\")\n",
    "    ax.set_xlabel(\"Target\")\n",
    "    ax.set_ylabel(\"Count\")\n",
    "    plt.tight_layout()\n",
    "    plt.show()\n",
    "\n",
    "    # Optional: Display indicator correlations\n",
    "    numeric_cols = df.select_dtypes(include='number').drop(columns=['Target'], errors='ignore')\n",
    "    corr = numeric_cols.corrwith(df['Target']).sort_values(ascending=False)\n",
    "\n",
    "    print(\"\\n🔍 Correlation of Features with Target:\")\n",
    "    print(corr.head(10).round(3))\n"
   ]
  },
  {
   "cell_type": "code",
   "execution_count": 4,
   "metadata": {},
   "outputs": [
    {
     "name": "stderr",
     "output_type": "stream",
     "text": [
      "C:\\Users\\alpya\\AppData\\Local\\Temp\\ipykernel_12132\\1692430065.py:3: FutureWarning: YF.download() has changed argument auto_adjust default to True\n",
      "  df = yf.download(\"AAPL\", start=\"2022-01-01\", end=\"2023-12-31\")\n",
      "[*********************100%***********************]  1 of 1 completed\n",
      "C:\\Users\\alpya\\AppData\\Local\\Temp\\ipykernel_12132\\2707247893.py:7: FutureWarning: \n",
      "\n",
      "Passing `palette` without assigning `hue` is deprecated and will be removed in v0.14.0. Assign the `x` variable to `hue` and set `legend=False` for the same effect.\n",
      "\n",
      "  sns.countplot(data=df, x='Target', palette='Set2', ax=ax)\n"
     ]
    },
    {
     "data": {
      "image/png": "[encoded data removed]",
      "text/plain": [
       "<Figure size 640x480 with 1 Axes>"
      ]
     },
     "metadata": {},
     "output_type": "display_data"
    },
    {
     "name": "stdout",
     "output_type": "stream",
     "text": [
      "\n",
      "🔍 Correlation of Features with Target:\n",
      "Price                  Ticker\n",
      "Volume                 AAPL      0.008\n",
      "Bollinger_Bands_Lower           -0.033\n",
      "Bollinger_Bands_Upper           -0.039\n",
      "EMA_14                          -0.045\n",
      "SMA_14                          -0.046\n",
      "RSI_14                          -0.057\n",
      "Close                  AAPL     -0.061\n",
      "Low                    AAPL     -0.061\n",
      "High                   AAPL     -0.064\n",
      "Open                   AAPL     -0.065\n",
      "dtype: float64\n"
     ]
    }
   ],
   "source": [
    "from scripts.fetch_data import add_technical_indicators, add_target_label, clean_features_for_modeling\n",
    "import yfinance as yf\n",
    "df = yf.download(\"AAPL\", start=\"2022-01-01\", end=\"2023-12-31\")\n",
    "\n",
    "df = add_technical_indicators(df)\n",
    "df = add_target_label(df)\n",
    "df = clean_features_for_modeling(df)\n",
    "\n",
    "quick_eda(df)"
   ]
  },
  {
   "cell_type": "code",
   "execution_count": null,
   "metadata": {},
   "outputs": [],
   "source": []
  }
 ],
 "metadata": {
  "kernelspec": {
   "display_name": "venv",
   "language": "python",
   "name": "python3"
  },
  "language_info": {
   "codemirror_mode": {
    "name": "ipython",
    "version": 3
   },
   "file_extension": ".py",
   "mimetype": "text/x-python",
   "name": "python",
   "nbconvert_exporter": "python",
   "pygments_lexer": "ipython3",
   "version": "3.13.5"
  }
 },
 "nbformat": 4,
 "nbformat_minor": 2
}
